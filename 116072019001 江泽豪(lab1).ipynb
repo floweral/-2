{
 "cells": [
  {
   "cell_type": "markdown",
   "id": "1bc380c2",
   "metadata": {},
   "source": [
    "# 一、Android Studio的安装\n",
    "## 1、下载android studio的安装包\n",
    "到[android studio官网](https://developer.android.google.cn/studio)下载安装包，此次安装选择的版本是4.2.0[版本图](https://github.com/floweral/images/blob/main/lab1/1.png)。\n",
    "\n",
    "## 2、通过安装程序进行安装\n",
    "1. 打开下载的安装程序，选择对应的目录进行安装\n",
    "2. 在初步安装中，选择安装Type为Custom,接着都是next\n",
    "3. 在SDK的选择中先选择cancel，进入程序后再下载\n",
    "\n",
    "## 3、安装结果如图\n",
    "[Android Studio安装结果图](https://github.com/floweral/images/blob/main/lab1/3.png)\n",
    "\n",
    "\n",
    "# 二、Anaconda的安装\n",
    "由于之前在其他课设已经提前安装好了Anaconda，所以直接贴出安装结果[Anaconda安装结果图](https://github.com/floweral/images/blob/main/lab1/3.png)"
   ]
  },
  {
   "cell_type": "markdown",
   "id": "4763d1fe",
   "metadata": {},
   "source": []
  },
  {
   "cell_type": "code",
   "execution_count": null,
   "id": "60bc659d",
   "metadata": {},
   "outputs": [],
   "source": []
  }
 ],
 "metadata": {
  "kernelspec": {
   "display_name": "Python 3 (ipykernel)",
   "language": "python",
   "name": "python3"
  },
  "language_info": {
   "codemirror_mode": {
    "name": "ipython",
    "version": 3
   },
   "file_extension": ".py",
   "mimetype": "text/x-python",
   "name": "python",
   "nbconvert_exporter": "python",
   "pygments_lexer": "ipython3",
   "version": "3.8.8"
  }
 },
 "nbformat": 4,
 "nbformat_minor": 5
}
